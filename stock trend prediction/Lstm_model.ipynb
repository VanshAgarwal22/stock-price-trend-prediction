{
  "cells": [
    {
      "cell_type": "code",
      "execution_count": 2,
      "metadata": {
        "id": "98Dl2a24fV0X"
      },
      "outputs": [],
      "source": [
        "import numpy as np\n",
        "import pandas as pd\n",
        "import matplotlib.pyplot as plt\n",
        "import pandas_datareader as data\n",
        "\n"
      ]
    },
    {
      "cell_type": "code",
      "execution_count": 3,
      "metadata": {
        "id": "GhqK7gRsfnhQ"
      },
      "outputs": [],
      "source": [
        "start = '2010-01-01'\n",
        "end ='2019-12-31'\n"
      ]
    },
    {
      "cell_type": "code",
      "execution_count": 13,
      "metadata": {
        "colab": {
          "base_uri": "https://localhost:8080/",
          "height": 206
        },
        "id": "-y90NmL9hRWd",
        "outputId": "202025c7-7b72-4130-ca70-7f1c4b6f57e9"
      },
      "outputs": [
        {
          "data": {
            "text/html": [
              "<div>\n",
              "<style scoped>\n",
              "    .dataframe tbody tr th:only-of-type {\n",
              "        vertical-align: middle;\n",
              "    }\n",
              "\n",
              "    .dataframe tbody tr th {\n",
              "        vertical-align: top;\n",
              "    }\n",
              "\n",
              "    .dataframe thead th {\n",
              "        text-align: right;\n",
              "    }\n",
              "</style>\n",
              "<table border=\"1\" class=\"dataframe\">\n",
              "  <thead>\n",
              "    <tr style=\"text-align: right;\">\n",
              "      <th></th>\n",
              "      <th>Date</th>\n",
              "      <th>Open</th>\n",
              "      <th>High</th>\n",
              "      <th>Low</th>\n",
              "      <th>Close</th>\n",
              "      <th>Adj Close</th>\n",
              "      <th>Volume</th>\n",
              "    </tr>\n",
              "  </thead>\n",
              "  <tbody>\n",
              "    <tr>\n",
              "      <th>0</th>\n",
              "      <td>2001-01-01</td>\n",
              "      <td>18.261845</td>\n",
              "      <td>18.662842</td>\n",
              "      <td>18.030684</td>\n",
              "      <td>18.398657</td>\n",
              "      <td>13.454566</td>\n",
              "      <td>11237186.0</td>\n",
              "    </tr>\n",
              "    <tr>\n",
              "      <th>1</th>\n",
              "      <td>2001-01-02</td>\n",
              "      <td>18.643970</td>\n",
              "      <td>19.719585</td>\n",
              "      <td>18.412809</td>\n",
              "      <td>19.417658</td>\n",
              "      <td>14.199740</td>\n",
              "      <td>21367159.0</td>\n",
              "    </tr>\n",
              "    <tr>\n",
              "      <th>2</th>\n",
              "      <td>2001-01-03</td>\n",
              "      <td>19.436529</td>\n",
              "      <td>20.799915</td>\n",
              "      <td>19.351612</td>\n",
              "      <td>20.502707</td>\n",
              "      <td>14.993221</td>\n",
              "      <td>59167521.0</td>\n",
              "    </tr>\n",
              "    <tr>\n",
              "      <th>3</th>\n",
              "      <td>2001-01-04</td>\n",
              "      <td>20.606495</td>\n",
              "      <td>20.851810</td>\n",
              "      <td>19.743174</td>\n",
              "      <td>20.063971</td>\n",
              "      <td>14.672376</td>\n",
              "      <td>29457229.0</td>\n",
              "    </tr>\n",
              "    <tr>\n",
              "      <th>4</th>\n",
              "      <td>2001-01-05</td>\n",
              "      <td>20.068687</td>\n",
              "      <td>20.606495</td>\n",
              "      <td>19.875265</td>\n",
              "      <td>20.280979</td>\n",
              "      <td>14.831070</td>\n",
              "      <td>29628333.0</td>\n",
              "    </tr>\n",
              "  </tbody>\n",
              "</table>\n",
              "</div>"
            ],
            "text/plain": [
              "         Date       Open       High        Low      Close  Adj Close  \\\n",
              "0  2001-01-01  18.261845  18.662842  18.030684  18.398657  13.454566   \n",
              "1  2001-01-02  18.643970  19.719585  18.412809  19.417658  14.199740   \n",
              "2  2001-01-03  19.436529  20.799915  19.351612  20.502707  14.993221   \n",
              "3  2001-01-04  20.606495  20.851810  19.743174  20.063971  14.672376   \n",
              "4  2001-01-05  20.068687  20.606495  19.875265  20.280979  14.831070   \n",
              "\n",
              "       Volume  \n",
              "0  11237186.0  \n",
              "1  21367159.0  \n",
              "2  59167521.0  \n",
              "3  29457229.0  \n",
              "4  29628333.0  "
            ]
          },
          "execution_count": 13,
          "metadata": {},
          "output_type": "execute_result"
        }
      ],
      "source": [
        "df = pd.read_csv('C:\\\\Users\\\\Vansh\\\\Downloads\\\\SBIN.NS.csv')\n",
        "df.head()"
      ]
    },
    {
      "cell_type": "code",
      "execution_count": 14,
      "metadata": {
        "colab": {
          "base_uri": "https://localhost:8080/",
          "height": 206
        },
        "id": "_p8BXmXy3hvr",
        "outputId": "c530800d-28a6-409a-8102-f47fe0cc4276"
      },
      "outputs": [
        {
          "data": {
            "text/html": [
              "<div>\n",
              "<style scoped>\n",
              "    .dataframe tbody tr th:only-of-type {\n",
              "        vertical-align: middle;\n",
              "    }\n",
              "\n",
              "    .dataframe tbody tr th {\n",
              "        vertical-align: top;\n",
              "    }\n",
              "\n",
              "    .dataframe thead th {\n",
              "        text-align: right;\n",
              "    }\n",
              "</style>\n",
              "<table border=\"1\" class=\"dataframe\">\n",
              "  <thead>\n",
              "    <tr style=\"text-align: right;\">\n",
              "      <th></th>\n",
              "      <th>Date</th>\n",
              "      <th>Open</th>\n",
              "      <th>High</th>\n",
              "      <th>Low</th>\n",
              "      <th>Close</th>\n",
              "      <th>Adj Close</th>\n",
              "      <th>Volume</th>\n",
              "    </tr>\n",
              "  </thead>\n",
              "  <tbody>\n",
              "    <tr>\n",
              "      <th>5465</th>\n",
              "      <td>2022-11-21</td>\n",
              "      <td>602.099976</td>\n",
              "      <td>602.099976</td>\n",
              "      <td>595.349976</td>\n",
              "      <td>598.099976</td>\n",
              "      <td>598.099976</td>\n",
              "      <td>7412419.0</td>\n",
              "    </tr>\n",
              "    <tr>\n",
              "      <th>5466</th>\n",
              "      <td>2022-11-22</td>\n",
              "      <td>598.150024</td>\n",
              "      <td>600.700012</td>\n",
              "      <td>596.150024</td>\n",
              "      <td>599.099976</td>\n",
              "      <td>599.099976</td>\n",
              "      <td>8048595.0</td>\n",
              "    </tr>\n",
              "    <tr>\n",
              "      <th>5467</th>\n",
              "      <td>2022-11-23</td>\n",
              "      <td>601.549988</td>\n",
              "      <td>609.599976</td>\n",
              "      <td>601.000000</td>\n",
              "      <td>607.650024</td>\n",
              "      <td>607.650024</td>\n",
              "      <td>12435924.0</td>\n",
              "    </tr>\n",
              "    <tr>\n",
              "      <th>5468</th>\n",
              "      <td>2022-11-24</td>\n",
              "      <td>609.750000</td>\n",
              "      <td>611.299988</td>\n",
              "      <td>605.799988</td>\n",
              "      <td>609.349976</td>\n",
              "      <td>609.349976</td>\n",
              "      <td>8960032.0</td>\n",
              "    </tr>\n",
              "    <tr>\n",
              "      <th>5469</th>\n",
              "      <td>2022-11-25</td>\n",
              "      <td>610.549988</td>\n",
              "      <td>613.700012</td>\n",
              "      <td>606.250000</td>\n",
              "      <td>607.400024</td>\n",
              "      <td>607.400024</td>\n",
              "      <td>9994513.0</td>\n",
              "    </tr>\n",
              "  </tbody>\n",
              "</table>\n",
              "</div>"
            ],
            "text/plain": [
              "            Date        Open        High         Low       Close   Adj Close  \\\n",
              "5465  2022-11-21  602.099976  602.099976  595.349976  598.099976  598.099976   \n",
              "5466  2022-11-22  598.150024  600.700012  596.150024  599.099976  599.099976   \n",
              "5467  2022-11-23  601.549988  609.599976  601.000000  607.650024  607.650024   \n",
              "5468  2022-11-24  609.750000  611.299988  605.799988  609.349976  609.349976   \n",
              "5469  2022-11-25  610.549988  613.700012  606.250000  607.400024  607.400024   \n",
              "\n",
              "          Volume  \n",
              "5465   7412419.0  \n",
              "5466   8048595.0  \n",
              "5467  12435924.0  \n",
              "5468   8960032.0  \n",
              "5469   9994513.0  "
            ]
          },
          "execution_count": 14,
          "metadata": {},
          "output_type": "execute_result"
        }
      ],
      "source": [
        "df.tail()"
      ]
    },
    {
      "cell_type": "code",
      "execution_count": 15,
      "metadata": {
        "colab": {
          "base_uri": "https://localhost:8080/",
          "height": 206
        },
        "id": "d46w4qMv9BOO",
        "outputId": "9b5ceaee-ae15-4888-d774-80657b1bf1a3"
      },
      "outputs": [
        {
          "data": {
            "text/html": [
              "<div>\n",
              "<style scoped>\n",
              "    .dataframe tbody tr th:only-of-type {\n",
              "        vertical-align: middle;\n",
              "    }\n",
              "\n",
              "    .dataframe tbody tr th {\n",
              "        vertical-align: top;\n",
              "    }\n",
              "\n",
              "    .dataframe thead th {\n",
              "        text-align: right;\n",
              "    }\n",
              "</style>\n",
              "<table border=\"1\" class=\"dataframe\">\n",
              "  <thead>\n",
              "    <tr style=\"text-align: right;\">\n",
              "      <th></th>\n",
              "      <th>Open</th>\n",
              "      <th>High</th>\n",
              "      <th>Low</th>\n",
              "      <th>Close</th>\n",
              "      <th>Volume</th>\n",
              "    </tr>\n",
              "  </thead>\n",
              "  <tbody>\n",
              "    <tr>\n",
              "      <th>0</th>\n",
              "      <td>18.261845</td>\n",
              "      <td>18.662842</td>\n",
              "      <td>18.030684</td>\n",
              "      <td>18.398657</td>\n",
              "      <td>11237186.0</td>\n",
              "    </tr>\n",
              "    <tr>\n",
              "      <th>1</th>\n",
              "      <td>18.643970</td>\n",
              "      <td>19.719585</td>\n",
              "      <td>18.412809</td>\n",
              "      <td>19.417658</td>\n",
              "      <td>21367159.0</td>\n",
              "    </tr>\n",
              "    <tr>\n",
              "      <th>2</th>\n",
              "      <td>19.436529</td>\n",
              "      <td>20.799915</td>\n",
              "      <td>19.351612</td>\n",
              "      <td>20.502707</td>\n",
              "      <td>59167521.0</td>\n",
              "    </tr>\n",
              "    <tr>\n",
              "      <th>3</th>\n",
              "      <td>20.606495</td>\n",
              "      <td>20.851810</td>\n",
              "      <td>19.743174</td>\n",
              "      <td>20.063971</td>\n",
              "      <td>29457229.0</td>\n",
              "    </tr>\n",
              "    <tr>\n",
              "      <th>4</th>\n",
              "      <td>20.068687</td>\n",
              "      <td>20.606495</td>\n",
              "      <td>19.875265</td>\n",
              "      <td>20.280979</td>\n",
              "      <td>29628333.0</td>\n",
              "    </tr>\n",
              "  </tbody>\n",
              "</table>\n",
              "</div>"
            ],
            "text/plain": [
              "        Open       High        Low      Close      Volume\n",
              "0  18.261845  18.662842  18.030684  18.398657  11237186.0\n",
              "1  18.643970  19.719585  18.412809  19.417658  21367159.0\n",
              "2  19.436529  20.799915  19.351612  20.502707  59167521.0\n",
              "3  20.606495  20.851810  19.743174  20.063971  29457229.0\n",
              "4  20.068687  20.606495  19.875265  20.280979  29628333.0"
            ]
          },
          "execution_count": 15,
          "metadata": {},
          "output_type": "execute_result"
        }
      ],
      "source": [
        "df = df.drop(['Date','Adj Close'], axis =1)\n",
        "df.head()"
      ]
    },
    {
      "cell_type": "code",
      "execution_count": 17,
      "metadata": {
        "colab": {
          "base_uri": "https://localhost:8080/",
          "height": 282
        },
        "id": "rRmDVnsXILMa",
        "outputId": "a103ce0b-b7fa-4c97-aa70-1e222de7c066"
      },
      "outputs": [
        {
          "data": {
            "text/plain": [
              "[<matplotlib.lines.Line2D at 0x276f4b052b0>]"
            ]
          },
          "execution_count": 17,
          "metadata": {},
          "output_type": "execute_result"
        },
        {
          "data": {
            "image/png": "[encoded data removed]",
            "text/plain": [
              "<Figure size 640x480 with 1 Axes>"
            ]
          },
          "metadata": {},
          "output_type": "display_data"
        }
      ],
      "source": [
        "plt.plot(df.Close)"
      ]
    },
    {
      "cell_type": "code",
      "execution_count": 16,
      "metadata": {
        "colab": {
          "base_uri": "https://localhost:8080/"
        },
        "id": "05jKcYS8IsMH",
        "outputId": "04db9051-6820-4855-a86c-69df59a41cf3"
      },
      "outputs": [
        {
          "data": {
            "text/plain": [
              "0            NaN\n",
              "1            NaN\n",
              "2            NaN\n",
              "3            NaN\n",
              "4            NaN\n",
              "          ...   \n",
              "5465    536.5695\n",
              "5466    537.9485\n",
              "5467    539.3825\n",
              "5468    540.8850\n",
              "5469    542.3000\n",
              "Name: Close, Length: 5470, dtype: float64"
            ]
          },
          "execution_count": 16,
          "metadata": {},
          "output_type": "execute_result"
        }
      ],
      "source": [
        "ma100 = df.Close.rolling(100).mean()\n",
        "ma100"
      ]
    },
    {
      "cell_type": "code",
      "execution_count": 18,
      "metadata": {
        "colab": {
          "base_uri": "https://localhost:8080/",
          "height": 391
        },
        "id": "pJEehQ0bJCwV",
        "outputId": "cc14e4b8-3825-4d88-a8c4-0b404656c375"
      },
      "outputs": [
        {
          "data": {
            "text/plain": [
              "[<matplotlib.lines.Line2D at 0x276f4bbbb50>]"
            ]
          },
          "execution_count": 18,
          "metadata": {},
          "output_type": "execute_result"
        },
        {
          "data": {
            "image/png": "[encoded data removed]",
            "text/plain": [
              "<Figure size 1200x600 with 1 Axes>"
            ]
          },
          "metadata": {},
          "output_type": "display_data"
        }
      ],
      "source": [
        "plt.figure(figsize =(12,6))\n",
        "plt.plot(df.Close)\n",
        "plt.plot(ma100 ,'r')\n"
      ]
    },
    {
      "cell_type": "code",
      "execution_count": 19,
      "metadata": {
        "colab": {
          "base_uri": "https://localhost:8080/"
        },
        "id": "Wnr09nHkLBnx",
        "outputId": "5385ca28-f2a4-4357-f9fb-aadfefa36558"
      },
      "outputs": [
        {
          "data": {
            "text/plain": [
              "0             NaN\n",
              "1             NaN\n",
              "2             NaN\n",
              "3             NaN\n",
              "4             NaN\n",
              "          ...    \n",
              "5465    511.41725\n",
              "5466    511.72125\n",
              "5467    512.09800\n",
              "5468    512.44575\n",
              "5469    512.78225\n",
              "Name: Close, Length: 5470, dtype: float64"
            ]
          },
          "execution_count": 19,
          "metadata": {},
          "output_type": "execute_result"
        }
      ],
      "source": [
        "ma200 =df.Close.rolling(200).mean()\n",
        "ma200"
      ]
    },
    {
      "cell_type": "code",
      "execution_count": 20,
      "metadata": {
        "colab": {
          "base_uri": "https://localhost:8080/",
          "height": 391
        },
        "id": "A0kXuIfDJ4r2",
        "outputId": "9019ea67-f6f8-4a79-ef86-ab36e1128a74"
      },
      "outputs": [
        {
          "data": {
            "text/plain": [
              "[<matplotlib.lines.Line2D at 0x276f4c45640>]"
            ]
          },
          "execution_count": 20,
          "metadata": {},
          "output_type": "execute_result"
        },
        {
          "data": {
            "image/png": "[encoded data removed]",
            "text/plain": [
              "<Figure size 1200x600 with 1 Axes>"
            ]
          },
          "metadata": {},
          "output_type": "display_data"
        }
      ],
      "source": [
        "plt.figure(figsize =(12,6))\n",
        "plt.plot(df.Close)\n",
        "plt.plot(ma100 ,'r')\n",
        "plt.plot(ma200,'g')"
      ]
    },
    {
      "cell_type": "code",
      "execution_count": 21,
      "metadata": {
        "colab": {
          "base_uri": "https://localhost:8080/"
        },
        "id": "QGPg8qQRKYwP",
        "outputId": "27c79ab2-839f-461d-97d0-598224faca2a"
      },
      "outputs": [
        {
          "data": {
            "text/plain": [
              "(5470, 5)"
            ]
          },
          "execution_count": 21,
          "metadata": {},
          "output_type": "execute_result"
        }
      ],
      "source": [
        "df.shape"
      ]
    },
    {
      "cell_type": "code",
      "execution_count": 22,
      "metadata": {
        "colab": {
          "base_uri": "https://localhost:8080/"
        },
        "id": "sBUOJY9HLSze",
        "outputId": "0d0c34da-f69e-47c2-9cfd-fd2ee260be23"
      },
      "outputs": [
        {
          "name": "stdout",
          "output_type": "stream",
          "text": [
            "(3828, 1)\n",
            "(1642, 1)\n"
          ]
        }
      ],
      "source": [
        "#splitng data in t o training and testing\n",
        "\n",
        "data_training = pd.DataFrame(df['Close'][0:int(len(df)*0.70)])\n",
        "data_testing = pd.DataFrame(df['Close'][int(len(df)*0.70): int (len(df))])\n",
        "print(data_training.shape)\n",
        "print(data_testing.shape)"
      ]
    },
    {
      "cell_type": "code",
      "execution_count": 23,
      "metadata": {
        "colab": {
          "base_uri": "https://localhost:8080/",
          "height": 206
        },
        "id": "gi25OHluMQbe",
        "outputId": "3a43e92a-3f1d-453a-d7ee-466e0f68695c"
      },
      "outputs": [
        {
          "data": {
            "text/html": [
              "<div>\n",
              "<style scoped>\n",
              "    .dataframe tbody tr th:only-of-type {\n",
              "        vertical-align: middle;\n",
              "    }\n",
              "\n",
              "    .dataframe tbody tr th {\n",
              "        vertical-align: top;\n",
              "    }\n",
              "\n",
              "    .dataframe thead th {\n",
              "        text-align: right;\n",
              "    }\n",
              "</style>\n",
              "<table border=\"1\" class=\"dataframe\">\n",
              "  <thead>\n",
              "    <tr style=\"text-align: right;\">\n",
              "      <th></th>\n",
              "      <th>Close</th>\n",
              "    </tr>\n",
              "  </thead>\n",
              "  <tbody>\n",
              "    <tr>\n",
              "      <th>0</th>\n",
              "      <td>18.398657</td>\n",
              "    </tr>\n",
              "    <tr>\n",
              "      <th>1</th>\n",
              "      <td>19.417658</td>\n",
              "    </tr>\n",
              "    <tr>\n",
              "      <th>2</th>\n",
              "      <td>20.502707</td>\n",
              "    </tr>\n",
              "    <tr>\n",
              "      <th>3</th>\n",
              "      <td>20.063971</td>\n",
              "    </tr>\n",
              "    <tr>\n",
              "      <th>4</th>\n",
              "      <td>20.280979</td>\n",
              "    </tr>\n",
              "  </tbody>\n",
              "</table>\n",
              "</div>"
            ],
            "text/plain": [
              "       Close\n",
              "0  18.398657\n",
              "1  19.417658\n",
              "2  20.502707\n",
              "3  20.063971\n",
              "4  20.280979"
            ]
          },
          "execution_count": 23,
          "metadata": {},
          "output_type": "execute_result"
        }
      ],
      "source": [
        "data_training.head()"
      ]
    },
    {
      "cell_type": "code",
      "execution_count": 24,
      "metadata": {
        "colab": {
          "base_uri": "https://localhost:8080/",
          "height": 206
        },
        "id": "_eJtNyz_MXDU",
        "outputId": "33294208-9347-4b34-b14d-98c58fc6d5f4"
      },
      "outputs": [
        {
          "data": {
            "text/html": [
              "<div>\n",
              "<style scoped>\n",
              "    .dataframe tbody tr th:only-of-type {\n",
              "        vertical-align: middle;\n",
              "    }\n",
              "\n",
              "    .dataframe tbody tr th {\n",
              "        vertical-align: top;\n",
              "    }\n",
              "\n",
              "    .dataframe thead th {\n",
              "        text-align: right;\n",
              "    }\n",
              "</style>\n",
              "<table border=\"1\" class=\"dataframe\">\n",
              "  <thead>\n",
              "    <tr style=\"text-align: right;\">\n",
              "      <th></th>\n",
              "      <th>Close</th>\n",
              "    </tr>\n",
              "  </thead>\n",
              "  <tbody>\n",
              "    <tr>\n",
              "      <th>3828</th>\n",
              "      <td>184.350006</td>\n",
              "    </tr>\n",
              "    <tr>\n",
              "      <th>3829</th>\n",
              "      <td>183.850006</td>\n",
              "    </tr>\n",
              "    <tr>\n",
              "      <th>3830</th>\n",
              "      <td>181.949997</td>\n",
              "    </tr>\n",
              "    <tr>\n",
              "      <th>3831</th>\n",
              "      <td>183.100006</td>\n",
              "    </tr>\n",
              "    <tr>\n",
              "      <th>3832</th>\n",
              "      <td>188.250000</td>\n",
              "    </tr>\n",
              "  </tbody>\n",
              "</table>\n",
              "</div>"
            ],
            "text/plain": [
              "           Close\n",
              "3828  184.350006\n",
              "3829  183.850006\n",
              "3830  181.949997\n",
              "3831  183.100006\n",
              "3832  188.250000"
            ]
          },
          "execution_count": 24,
          "metadata": {},
          "output_type": "execute_result"
        }
      ],
      "source": [
        "data_testing.head()"
      ]
    },
    {
      "cell_type": "code",
      "execution_count": 25,
      "metadata": {
        "id": "bdTqVzLiMetb"
      },
      "outputs": [],
      "source": [
        "from sklearn.preprocessing import MinMaxScaler      #### for LSTM model we have to scale down the data between 0 and 1 , clsing prices ka data 0 na d1 k beech\n",
        "scaler = MinMaxScaler(feature_range=(0,1)) "
      ]
    },
    {
      "cell_type": "code",
      "execution_count": 26,
      "metadata": {
        "colab": {
          "base_uri": "https://localhost:8080/"
        },
        "id": "QgLjBWQkMuhF",
        "outputId": "95567360-c6fd-4965-e848-522cdfbae3c5"
      },
      "outputs": [
        {
          "data": {
            "text/plain": [
              "array([[0.01531082],\n",
              "       [0.01839872],\n",
              "       [0.02168675],\n",
              "       ...,\n",
              "       [0.54819546],\n",
              "       [0.55243788],\n",
              "       [0.54955909]])"
            ]
          },
          "execution_count": 26,
          "metadata": {},
          "output_type": "execute_result"
        }
      ],
      "source": [
        "data_training_array = scaler.fit_transform(data_training)       ### fitting the training data to scaler\n",
        "data_training_array"
      ]
    },
    {
      "cell_type": "code",
      "execution_count": 27,
      "metadata": {
        "colab": {
          "base_uri": "https://localhost:8080/"
        },
        "id": "rduO2IY1SSXe",
        "outputId": "fc6bf888-5e21-4773-b08f-2eced9c1c2ff"
      },
      "outputs": [
        {
          "data": {
            "text/plain": [
              "(3828, 1)"
            ]
          },
          "execution_count": 27,
          "metadata": {},
          "output_type": "execute_result"
        }
      ],
      "source": [
        "data_training_array.shape"
      ]
    },
    {
      "cell_type": "code",
      "execution_count": 28,
      "metadata": {
        "id": "OBTJVtmjM-jz"
      },
      "outputs": [],
      "source": [
        "x_train = []\n",
        "y_train = []  #defin etwo  empty list\n",
        "\n",
        "for i in range(100, data_training_array.shape[0]) :\n",
        "  x_train.append(data_training_array[i-100 : i])\n",
        "  y_train.append(data_training_array[i , 0])\n",
        "\n",
        "#x_train             #####  use to see x_train  \n",
        "\n",
        "###  now we have to convert x_train and y_train to numpy arrays to provide these data to LSTM model\n",
        "x_train , y_train = np.array(x_train) , np.array(y_train)"
      ]
    },
    {
      "cell_type": "code",
      "execution_count": 29,
      "metadata": {
        "id": "AocxNWefN4D8"
      },
      "outputs": [],
      "source": [
        "from keras.layers import Dense , Dropout , LSTM            #########    ML MODEL\n",
        "from keras.models import Sequential\n"
      ]
    },
    {
      "cell_type": "code",
      "execution_count": 30,
      "metadata": {
        "id": "8gdVIVQxO6Ni"
      },
      "outputs": [],
      "source": [
        "from pandas.core.arrays.datetimes import sequence_to_datetimes\n",
        "model = Sequential()\n",
        "model.add(LSTM(units =50 ,activation ='relu' ,return_sequences = True, input_shape =(x_train.shape[1],1)))\n",
        "model.add(Dropout(0.2))\n",
        "\n",
        "model.add(LSTM(units =60 ,activation ='relu' ,return_sequences = True))\n",
        "model.add(Dropout(0.3))\n",
        "\n",
        "model.add(LSTM(units =80 ,activation ='relu' ,return_sequences = True))\n",
        "model.add(Dropout(0.4))\n",
        "\n",
        "model.add(LSTM(units =120 ,activation ='relu' ))\n",
        "model.add(Dropout(0.5))\n",
        "\n",
        "\n",
        "model.add(Dense(units =1))"
      ]
    },
    {
      "cell_type": "code",
      "execution_count": 31,
      "metadata": {
        "colab": {
          "base_uri": "https://localhost:8080/"
        },
        "id": "r509jGK6QP2f",
        "outputId": "97c93793-13b4-49dc-c624-bba5b77a80ee"
      },
      "outputs": [
        {
          "name": "stdout",
          "output_type": "stream",
          "text": [
            "Model: \"sequential\"\n",
            "_________________________________________________________________\n",
            " Layer (type)                Output Shape              Param #   \n",
            "=================================================================\n",
            " lstm (LSTM)                 (None, 100, 50)           10400     \n",
            "                                                                 \n",
            " dropout (Dropout)           (None, 100, 50)           0         \n",
            "                                                                 \n",
            " lstm_1 (LSTM)               (None, 100, 60)           26640     \n",
            "                                                                 \n",
            " dropout_1 (Dropout)         (None, 100, 60)           0         \n",
            "                                                                 \n",
            " lstm_2 (LSTM)               (None, 100, 80)           45120     \n",
            "                                                                 \n",
            " dropout_2 (Dropout)         (None, 100, 80)           0         \n",
            "                                                                 \n",
            " lstm_3 (LSTM)               (None, 120)               96480     \n",
            "                                                                 \n",
            " dropout_3 (Dropout)         (None, 120)               0         \n",
            "                                                                 \n",
            " dense (Dense)               (None, 1)                 121       \n",
            "                                                                 \n",
            "=================================================================\n",
            "Total params: 178,761\n",
            "Trainable params: 178,761\n",
            "Non-trainable params: 0\n",
            "_________________________________________________________________\n"
          ]
        }
      ],
      "source": [
        "model.summary()"
      ]
    },
    {
      "cell_type": "code",
      "execution_count": 32,
      "metadata": {
        "colab": {
          "base_uri": "https://localhost:8080/"
        },
        "id": "drHrzmjvQZnh",
        "outputId": "e6f16320-24a1-4b14-e362-38df9f7e6fbd"
      },
      "outputs": [
        {
          "name": "stdout",
          "output_type": "stream",
          "text": [
            "Epoch 1/50\n",
            "117/117 [==============================] - 36s 260ms/step - loss: nan\n",
            "Epoch 2/50\n",
            "117/117 [==============================] - 32s 276ms/step - loss: nan\n",
            "Epoch 3/50\n",
            "117/117 [==============================] - 32s 271ms/step - loss: nan\n",
            "Epoch 4/50\n",
            "117/117 [==============================] - 31s 267ms/step - loss: nan\n",
            "Epoch 5/50\n",
            "117/117 [==============================] - 32s 271ms/step - loss: nan\n",
            "Epoch 6/50\n",
            "117/117 [==============================] - 34s 292ms/step - loss: nan\n",
            "Epoch 7/50\n",
            "117/117 [==============================] - 31s 264ms/step - loss: nan\n",
            "Epoch 8/50\n",
            "117/117 [==============================] - 30s 258ms/step - loss: nan\n",
            "Epoch 9/50\n",
            "117/117 [==============================] - 31s 265ms/step - loss: nan\n",
            "Epoch 10/50\n",
            "117/117 [==============================] - 34s 287ms/step - loss: nan\n",
            "Epoch 11/50\n",
            "117/117 [==============================] - 34s 290ms/step - loss: nan\n",
            "Epoch 12/50\n",
            "117/117 [==============================] - 30s 258ms/step - loss: nan\n",
            "Epoch 13/50\n",
            "117/117 [==============================] - 30s 256ms/step - loss: nan\n",
            "Epoch 14/50\n",
            "117/117 [==============================] - 33s 282ms/step - loss: nan\n",
            "Epoch 15/50\n",
            "117/117 [==============================] - 34s 288ms/step - loss: nan\n",
            "Epoch 16/50\n",
            "117/117 [==============================] - 31s 262ms/step - loss: nan\n",
            "Epoch 17/50\n",
            "117/117 [==============================] - 29s 252ms/step - loss: nan\n",
            "Epoch 18/50\n",
            "117/117 [==============================] - 31s 264ms/step - loss: nan\n",
            "Epoch 19/50\n",
            "117/117 [==============================] - 33s 282ms/step - loss: nan\n",
            "Epoch 20/50\n",
            "117/117 [==============================] - 31s 268ms/step - loss: nan\n",
            "Epoch 21/50\n",
            "117/117 [==============================] - 33s 280ms/step - loss: nan\n",
            "Epoch 22/50\n",
            "117/117 [==============================] - 33s 285ms/step - loss: nan\n",
            "Epoch 23/50\n",
            "117/117 [==============================] - 33s 281ms/step - loss: nan\n",
            "Epoch 24/50\n",
            "117/117 [==============================] - 40s 339ms/step - loss: nan\n",
            "Epoch 25/50\n",
            "117/117 [==============================] - 35s 297ms/step - loss: nan\n",
            "Epoch 26/50\n",
            "117/117 [==============================] - 37s 317ms/step - loss: nan\n",
            "Epoch 27/50\n",
            "117/117 [==============================] - 44s 377ms/step - loss: nan\n",
            "Epoch 28/50\n",
            "117/117 [==============================] - 45s 382ms/step - loss: nan\n",
            "Epoch 29/50\n",
            "117/117 [==============================] - 38s 321ms/step - loss: nan\n",
            "Epoch 30/50\n",
            "117/117 [==============================] - 41s 354ms/step - loss: nan\n",
            "Epoch 31/50\n",
            "117/117 [==============================] - 37s 315ms/step - loss: nan\n",
            "Epoch 32/50\n",
            "117/117 [==============================] - 31s 266ms/step - loss: nan\n",
            "Epoch 33/50\n",
            "117/117 [==============================] - 29s 247ms/step - loss: nan\n",
            "Epoch 34/50\n",
            "117/117 [==============================] - 29s 249ms/step - loss: nan\n",
            "Epoch 35/50\n",
            "117/117 [==============================] - 29s 251ms/step - loss: nan\n",
            "Epoch 36/50\n",
            "117/117 [==============================] - 32s 271ms/step - loss: nan\n",
            "Epoch 37/50\n",
            "117/117 [==============================] - 30s 258ms/step - loss: nan\n",
            "Epoch 38/50\n",
            "117/117 [==============================] - 30s 255ms/step - loss: nan\n",
            "Epoch 39/50\n",
            "117/117 [==============================] - 30s 258ms/step - loss: nan\n",
            "Epoch 40/50\n",
            "117/117 [==============================] - 30s 259ms/step - loss: nan\n",
            "Epoch 41/50\n",
            "117/117 [==============================] - 29s 249ms/step - loss: nan\n",
            "Epoch 42/50\n",
            "117/117 [==============================] - 29s 245ms/step - loss: nan\n",
            "Epoch 43/50\n",
            "117/117 [==============================] - 29s 245ms/step - loss: nan\n",
            "Epoch 44/50\n",
            "117/117 [==============================] - 29s 249ms/step - loss: nan\n",
            "Epoch 45/50\n",
            "117/117 [==============================] - 30s 253ms/step - loss: nan\n",
            "Epoch 46/50\n",
            "117/117 [==============================] - 30s 254ms/step - loss: nan\n",
            "Epoch 47/50\n",
            "117/117 [==============================] - 30s 253ms/step - loss: nan\n",
            "Epoch 48/50\n",
            "117/117 [==============================] - 30s 254ms/step - loss: nan\n",
            "Epoch 49/50\n",
            "117/117 [==============================] - 30s 255ms/step - loss: nan\n",
            "Epoch 50/50\n",
            "117/117 [==============================] - 30s 256ms/step - loss: nan\n"
          ]
        },
        {
          "data": {
            "text/plain": [
              "<keras.callbacks.History at 0x2768ee46f40>"
            ]
          },
          "execution_count": 32,
          "metadata": {},
          "output_type": "execute_result"
        }
      ],
      "source": [
        "model.compile(optimizer ='adam' ,loss = 'mean_squared_error')\n",
        "model.fit(x_train ,y_train , epochs =50)"
      ]
    },
    {
      "cell_type": "code",
      "execution_count": 33,
      "metadata": {
        "id": "VKh8dszVRF6W"
      },
      "outputs": [],
      "source": [
        "model.save('kereas_model.h5')"
      ]
    },
    {
      "cell_type": "code",
      "execution_count": 34,
      "metadata": {
        "colab": {
          "base_uri": "https://localhost:8080/",
          "height": 206
        },
        "id": "XRCbYHd-TUD7",
        "outputId": "b1e8eb65-2d9f-46d1-9705-b63b9275d630"
      },
      "outputs": [
        {
          "data": {
            "text/html": [
              "<div>\n",
              "<style scoped>\n",
              "    .dataframe tbody tr th:only-of-type {\n",
              "        vertical-align: middle;\n",
              "    }\n",
              "\n",
              "    .dataframe tbody tr th {\n",
              "        vertical-align: top;\n",
              "    }\n",
              "\n",
              "    .dataframe thead th {\n",
              "        text-align: right;\n",
              "    }\n",
              "</style>\n",
              "<table border=\"1\" class=\"dataframe\">\n",
              "  <thead>\n",
              "    <tr style=\"text-align: right;\">\n",
              "      <th></th>\n",
              "      <th>Close</th>\n",
              "    </tr>\n",
              "  </thead>\n",
              "  <tbody>\n",
              "    <tr>\n",
              "      <th>3828</th>\n",
              "      <td>184.350006</td>\n",
              "    </tr>\n",
              "    <tr>\n",
              "      <th>3829</th>\n",
              "      <td>183.850006</td>\n",
              "    </tr>\n",
              "    <tr>\n",
              "      <th>3830</th>\n",
              "      <td>181.949997</td>\n",
              "    </tr>\n",
              "    <tr>\n",
              "      <th>3831</th>\n",
              "      <td>183.100006</td>\n",
              "    </tr>\n",
              "    <tr>\n",
              "      <th>3832</th>\n",
              "      <td>188.250000</td>\n",
              "    </tr>\n",
              "  </tbody>\n",
              "</table>\n",
              "</div>"
            ],
            "text/plain": [
              "           Close\n",
              "3828  184.350006\n",
              "3829  183.850006\n",
              "3830  181.949997\n",
              "3831  183.100006\n",
              "3832  188.250000"
            ]
          },
          "execution_count": 34,
          "metadata": {},
          "output_type": "execute_result"
        }
      ],
      "source": [
        "#for pridicting the value :: (30%)testing data\n",
        "\n",
        "data_testing.head()"
      ]
    },
    {
      "cell_type": "code",
      "execution_count": 35,
      "metadata": {
        "colab": {
          "base_uri": "https://localhost:8080/",
          "height": 424
        },
        "id": "JSROSpKMTv1y",
        "outputId": "7a641503-5f41-4032-8d49-6aac72aaceaa"
      },
      "outputs": [
        {
          "data": {
            "text/html": [
              "<div>\n",
              "<style scoped>\n",
              "    .dataframe tbody tr th:only-of-type {\n",
              "        vertical-align: middle;\n",
              "    }\n",
              "\n",
              "    .dataframe tbody tr th {\n",
              "        vertical-align: top;\n",
              "    }\n",
              "\n",
              "    .dataframe thead th {\n",
              "        text-align: right;\n",
              "    }\n",
              "</style>\n",
              "<table border=\"1\" class=\"dataframe\">\n",
              "  <thead>\n",
              "    <tr style=\"text-align: right;\">\n",
              "      <th></th>\n",
              "      <th>Close</th>\n",
              "    </tr>\n",
              "  </thead>\n",
              "  <tbody>\n",
              "    <tr>\n",
              "      <th>3728</th>\n",
              "      <td>233.899994</td>\n",
              "    </tr>\n",
              "    <tr>\n",
              "      <th>3729</th>\n",
              "      <td>243.000000</td>\n",
              "    </tr>\n",
              "    <tr>\n",
              "      <th>3730</th>\n",
              "      <td>246.100006</td>\n",
              "    </tr>\n",
              "    <tr>\n",
              "      <th>3731</th>\n",
              "      <td>241.199997</td>\n",
              "    </tr>\n",
              "    <tr>\n",
              "      <th>3732</th>\n",
              "      <td>240.250000</td>\n",
              "    </tr>\n",
              "    <tr>\n",
              "      <th>...</th>\n",
              "      <td>...</td>\n",
              "    </tr>\n",
              "    <tr>\n",
              "      <th>3823</th>\n",
              "      <td>189.500000</td>\n",
              "    </tr>\n",
              "    <tr>\n",
              "      <th>3824</th>\n",
              "      <td>197.550003</td>\n",
              "    </tr>\n",
              "    <tr>\n",
              "      <th>3825</th>\n",
              "      <td>194.250000</td>\n",
              "    </tr>\n",
              "    <tr>\n",
              "      <th>3826</th>\n",
              "      <td>195.649994</td>\n",
              "    </tr>\n",
              "    <tr>\n",
              "      <th>3827</th>\n",
              "      <td>194.699997</td>\n",
              "    </tr>\n",
              "  </tbody>\n",
              "</table>\n",
              "<p>100 rows × 1 columns</p>\n",
              "</div>"
            ],
            "text/plain": [
              "           Close\n",
              "3728  233.899994\n",
              "3729  243.000000\n",
              "3730  246.100006\n",
              "3731  241.199997\n",
              "3732  240.250000\n",
              "...          ...\n",
              "3823  189.500000\n",
              "3824  197.550003\n",
              "3825  194.250000\n",
              "3826  195.649994\n",
              "3827  194.699997\n",
              "\n",
              "[100 rows x 1 columns]"
            ]
          },
          "execution_count": 35,
          "metadata": {},
          "output_type": "execute_result"
        }
      ],
      "source": [
        "data_training.tail(100)"
      ]
    },
    {
      "cell_type": "code",
      "execution_count": 36,
      "metadata": {
        "id": "ONYsFVl4UbEr"
      },
      "outputs": [],
      "source": [
        "past_100_days = data_training.tail(100)"
      ]
    },
    {
      "cell_type": "code",
      "execution_count": 37,
      "metadata": {
        "id": "Wrj3nzGkUlJB"
      },
      "outputs": [
        {
          "name": "stderr",
          "output_type": "stream",
          "text": [
            "C:\\Users\\Vansh\\AppData\\Local\\Temp\\ipykernel_39116\\3446048285.py:2: FutureWarning: The frame.append method is deprecated and will be removed from pandas in a future version. Use pandas.concat instead.\n",
            "  final_df = past_100_days.append(data_testing , ignore_index=True)\n"
          ]
        }
      ],
      "source": [
        "#df =dataframe , here we connecting the datatraining and data testing ::\n",
        "final_df = past_100_days.append(data_testing , ignore_index=True)"
      ]
    },
    {
      "cell_type": "code",
      "execution_count": 38,
      "metadata": {
        "colab": {
          "base_uri": "https://localhost:8080/",
          "height": 206
        },
        "id": "NUSUYVlpVHDw",
        "outputId": "3eac4592-4367-4d44-edd2-9e3e5b88a138"
      },
      "outputs": [
        {
          "data": {
            "text/html": [
              "<div>\n",
              "<style scoped>\n",
              "    .dataframe tbody tr th:only-of-type {\n",
              "        vertical-align: middle;\n",
              "    }\n",
              "\n",
              "    .dataframe tbody tr th {\n",
              "        vertical-align: top;\n",
              "    }\n",
              "\n",
              "    .dataframe thead th {\n",
              "        text-align: right;\n",
              "    }\n",
              "</style>\n",
              "<table border=\"1\" class=\"dataframe\">\n",
              "  <thead>\n",
              "    <tr style=\"text-align: right;\">\n",
              "      <th></th>\n",
              "      <th>Close</th>\n",
              "    </tr>\n",
              "  </thead>\n",
              "  <tbody>\n",
              "    <tr>\n",
              "      <th>0</th>\n",
              "      <td>233.899994</td>\n",
              "    </tr>\n",
              "    <tr>\n",
              "      <th>1</th>\n",
              "      <td>243.000000</td>\n",
              "    </tr>\n",
              "    <tr>\n",
              "      <th>2</th>\n",
              "      <td>246.100006</td>\n",
              "    </tr>\n",
              "    <tr>\n",
              "      <th>3</th>\n",
              "      <td>241.199997</td>\n",
              "    </tr>\n",
              "    <tr>\n",
              "      <th>4</th>\n",
              "      <td>240.250000</td>\n",
              "    </tr>\n",
              "  </tbody>\n",
              "</table>\n",
              "</div>"
            ],
            "text/plain": [
              "        Close\n",
              "0  233.899994\n",
              "1  243.000000\n",
              "2  246.100006\n",
              "3  241.199997\n",
              "4  240.250000"
            ]
          },
          "execution_count": 38,
          "metadata": {},
          "output_type": "execute_result"
        }
      ],
      "source": [
        "final_df.head()"
      ]
    },
    {
      "cell_type": "code",
      "execution_count": 39,
      "metadata": {
        "colab": {
          "base_uri": "https://localhost:8080/"
        },
        "id": "_rEkqvE8VJzM",
        "outputId": "64e617ae-ddc8-4ba3-e5bb-837ab586a668"
      },
      "outputs": [
        {
          "data": {
            "text/plain": [
              "array([[0.17871743],\n",
              "       [0.19829997],\n",
              "       [0.20497096],\n",
              "       ...,\n",
              "       [0.98299986],\n",
              "       [0.98665803],\n",
              "       [0.98246188]])"
            ]
          },
          "execution_count": 39,
          "metadata": {},
          "output_type": "execute_result"
        }
      ],
      "source": [
        "input_data =scaler.fit_transform(final_df)\n",
        "input_data"
      ]
    },
    {
      "cell_type": "code",
      "execution_count": 40,
      "metadata": {
        "colab": {
          "base_uri": "https://localhost:8080/"
        },
        "id": "-O2O0u5XVs_o",
        "outputId": "c9a8685d-f777-4608-f016-22a124951fd0"
      },
      "outputs": [
        {
          "data": {
            "text/plain": [
              "(1742, 1)"
            ]
          },
          "execution_count": 40,
          "metadata": {},
          "output_type": "execute_result"
        }
      ],
      "source": [
        "input_data.shape"
      ]
    },
    {
      "cell_type": "code",
      "execution_count": 41,
      "metadata": {
        "id": "_MPYKoWsVzza"
      },
      "outputs": [],
      "source": [
        "x_test = []\n",
        "y_test = []\n",
        "\n",
        "for i in range(100,input_data.shape[0]):\n",
        "  x_test.append(input_data[i-100 : i])\n",
        "  y_test.append(input_data[i , 0])"
      ]
    },
    {
      "cell_type": "code",
      "execution_count": 42,
      "metadata": {
        "colab": {
          "base_uri": "https://localhost:8080/"
        },
        "id": "0wGBDiJCV961",
        "outputId": "18777893-4f70-4811-e50d-1fa1421cead5"
      },
      "outputs": [
        {
          "name": "stdout",
          "output_type": "stream",
          "text": [
            "(1642, 100, 1)\n",
            "(1642,)\n"
          ]
        }
      ],
      "source": [
        "x_test , y_test = np.array(x_test) , np.array(y_test)\n",
        "print(x_test.shape)\n",
        "print(y_test.shape)"
      ]
    },
    {
      "cell_type": "code",
      "execution_count": 43,
      "metadata": {
        "colab": {
          "base_uri": "https://localhost:8080/"
        },
        "id": "bsZjPH0lWP6b",
        "outputId": "5595b7c7-d068-493c-9e7a-e0fa15534ade"
      },
      "outputs": [
        {
          "name": "stdout",
          "output_type": "stream",
          "text": [
            "52/52 [==============================] - 5s 72ms/step\n"
          ]
        }
      ],
      "source": [
        "#making predictions\n",
        "y_predicted = model.predict(x_test)"
      ]
    },
    {
      "cell_type": "code",
      "execution_count": 44,
      "metadata": {
        "colab": {
          "base_uri": "https://localhost:8080/"
        },
        "id": "OIyXChyUcHSJ",
        "outputId": "d6fa84ed-b3d5-4c87-d680-c7cd38eb1dbd"
      },
      "outputs": [
        {
          "data": {
            "text/plain": [
              "(1642, 1)"
            ]
          },
          "execution_count": 44,
          "metadata": {},
          "output_type": "execute_result"
        }
      ],
      "source": [
        "y_predicted.shape"
      ]
    },
    {
      "cell_type": "code",
      "execution_count": 45,
      "metadata": {
        "colab": {
          "base_uri": "https://localhost:8080/"
        },
        "id": "2AypS7zgcP-D",
        "outputId": "d15d002b-6ec7-48eb-d4a5-6fbafb6bcb54"
      },
      "outputs": [
        {
          "data": {
            "text/plain": [
              "array([0.07208952, 0.07101356, 0.06692488, ..., 0.98299986, 0.98665803,\n",
              "       0.98246188])"
            ]
          },
          "execution_count": 45,
          "metadata": {},
          "output_type": "execute_result"
        }
      ],
      "source": [
        "y_test"
      ]
    },
    {
      "cell_type": "code",
      "execution_count": 46,
      "metadata": {
        "colab": {
          "base_uri": "https://localhost:8080/"
        },
        "id": "M1JCWGntcTrj",
        "outputId": "ce1a13f8-ab17-4647-96d4-f723b87c9ac8"
      },
      "outputs": [
        {
          "data": {
            "text/plain": [
              "array([[nan],\n",
              "       [nan],\n",
              "       [nan],\n",
              "       ...,\n",
              "       [nan],\n",
              "       [nan],\n",
              "       [nan]], dtype=float32)"
            ]
          },
          "execution_count": 46,
          "metadata": {},
          "output_type": "execute_result"
        }
      ],
      "source": [
        "y_predicted"
      ]
    },
    {
      "cell_type": "code",
      "execution_count": 47,
      "metadata": {
        "colab": {
          "base_uri": "https://localhost:8080/"
        },
        "id": "hzLBWfSOcZeU",
        "outputId": "edbe4faf-8a16-4859-a433-28b74275a436"
      },
      "outputs": [
        {
          "data": {
            "text/plain": [
              "array([0.00215193])"
            ]
          },
          "execution_count": 47,
          "metadata": {},
          "output_type": "execute_result"
        }
      ],
      "source": [
        "scaler.scale_"
      ]
    },
    {
      "cell_type": "code",
      "execution_count": 48,
      "metadata": {
        "id": "IAKG9napc5M7"
      },
      "outputs": [],
      "source": [
        "scale_factor = 1/0.02044989\n",
        "y_predicted = y_predicted * scale_factor\n",
        "y_test = y_test * scale_factor"
      ]
    },
    {
      "cell_type": "code",
      "execution_count": 49,
      "metadata": {
        "colab": {
          "base_uri": "https://localhost:8080/",
          "height": 388
        },
        "id": "Qs_TyiCzdFhL",
        "outputId": "01a070a3-edf2-47ea-cb1c-2720361850dc"
      },
      "outputs": [
        {
          "data": {
            "image/png": "[encoded data removed]",
            "text/plain": [
              "<Figure size 1200x600 with 1 Axes>"
            ]
          },
          "metadata": {},
          "output_type": "display_data"
        }
      ],
      "source": [
        "plt.figure(figsize=(12,6))\n",
        "plt.plot(y_test , 'b' , label='Original Price')\n",
        "plt.plot(y_predicted , 'r' , label='Predicted Price')\n",
        "plt.xlabel('Time')\n",
        "plt.ylabel('Pirce')\n",
        "plt.legend()\n",
        "plt.show()"
      ]
    },
    {
      "cell_type": "code",
      "execution_count": null,
      "metadata": {
        "id": "sAMBQFwIpL-w"
      },
      "outputs": [],
      "source": []
    }
  ],
  "metadata": {
    "colab": {
      "provenance": []
    },
    "kernelspec": {
      "display_name": "Python 3",
      "language": "python",
      "name": "python3"
    },
    "language_info": {
      "codemirror_mode": {
        "name": "ipython",
        "version": 3
      },
      "file_extension": ".py",
      "mimetype": "text/x-python",
      "name": "python",
      "nbconvert_exporter": "python",
      "pygments_lexer": "ipython3",
      "version": "3.9.6"
    },
    "vscode": {
      "interpreter": {
        "hash": "706b8fd5b268fb1e0e684bc4f47ea90805a027645c89a71401e3549f05820512"
      }
    }
  },
  "nbformat": 4,
  "nbformat_minor": 0
}
